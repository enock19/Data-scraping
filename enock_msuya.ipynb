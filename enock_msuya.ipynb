{
 "cells": [
  {
   "cell_type": "code",
   "execution_count": 1,
   "id": "c95894ad",
   "metadata": {},
   "outputs": [],
   "source": [
    "from selenium import webdriver"
   ]
  },
  {
   "cell_type": "code",
   "execution_count": 6,
   "id": "b3db94ad",
   "metadata": {},
   "outputs": [],
   "source": [
    "chrome_path=\"C:\\\\Users\\\\ENOCK\\\\Downloads\\\\chromedriver-win64\\\\chromedriver.exe\"\n",
    "\n",
    "driver = webdriver.Chrome(executable_path=chrome_path)\n",
    "driver.get(\"https://www.worldometers.info/world-population/population-by-country/#google_vignette\")"
   ]
  },
  {
   "cell_type": "code",
   "execution_count": 17,
   "id": "5d92dec6",
   "metadata": {},
   "outputs": [],
   "source": [
    "country=driver.find_elements_by_xpath('//td[@style=\"font-weight: bold; font-size:15px; text-align:left\"]')"
   ]
  },
  {
   "cell_type": "code",
   "execution_count": 20,
   "id": "940e1216",
   "metadata": {},
   "outputs": [],
   "source": [
    "country_name=[]\n",
    "for i in country:\n",
    "    country_name.append(i.text)"
   ]
  },
  {
   "cell_type": "code",
   "execution_count": 21,
   "id": "a7a4b826",
   "metadata": {},
   "outputs": [
    {
     "name": "stdout",
     "output_type": "stream",
     "text": [
      "['India', 'China', 'United States', 'Indonesia', 'Pakistan', 'Nigeria', 'Brazil', 'Bangladesh', 'Russia', 'Mexico', 'Ethiopia', 'Japan', 'Philippines', 'Egypt', 'DR Congo', 'Vietnam', 'Iran', 'Turkey', 'Germany', 'Thailand', 'United Kingdom', 'Tanzania', 'France', 'South Africa', 'Italy', 'Kenya', 'Myanmar', 'Colombia', 'South Korea', 'Uganda', 'Sudan', 'Spain', 'Argentina', 'Algeria', 'Iraq', 'Afghanistan', 'Poland', 'Canada', 'Morocco', 'Saudi Arabia', 'Ukraine', 'Angola', 'Uzbekistan', 'Yemen', 'Peru', 'Malaysia', 'Ghana', 'Mozambique', 'Nepal', 'Madagascar', \"Côte d'Ivoire\", 'Venezuela', 'Cameroon', 'Niger', 'Australia', 'North Korea', 'Taiwan', 'Mali', 'Burkina Faso', 'Syria', 'Sri Lanka', 'Malawi', 'Zambia', 'Romania', 'Chile', 'Kazakhstan', 'Chad', 'Ecuador', 'Somalia', 'Guatemala', 'Senegal', 'Netherlands', 'Cambodia', 'Zimbabwe', 'Guinea', 'Rwanda', 'Benin', 'Burundi', 'Tunisia', 'Bolivia', 'Haiti', 'Belgium', 'Jordan', 'Dominican Republic', 'Cuba', 'South Sudan', 'Sweden', 'Honduras', 'Czech Republic (Czechia)', 'Azerbaijan', 'Greece', 'Papua New Guinea', 'Portugal', 'Hungary', 'Tajikistan', 'United Arab Emirates', 'Belarus', 'Israel', 'Togo', 'Austria', 'Switzerland', 'Sierra Leone', 'Laos', 'Hong Kong', 'Serbia', 'Nicaragua', 'Libya', 'Paraguay', 'Kyrgyzstan', 'Bulgaria', 'Turkmenistan', 'El Salvador', 'Congo', 'Singapore', 'Denmark', 'Slovakia', 'Central African Republic', 'Finland', 'Norway', 'Liberia', 'State of Palestine', 'Lebanon', 'New Zealand', 'Costa Rica', 'Ireland', 'Mauritania', 'Oman', 'Panama', 'Kuwait', 'Croatia', 'Eritrea', 'Georgia', 'Mongolia', 'Moldova', 'Uruguay', 'Puerto Rico', 'Bosnia and Herzegovina', 'Albania', 'Jamaica', 'Armenia', 'Gambia', 'Lithuania', 'Qatar', 'Botswana', 'Namibia', 'Gabon', 'Lesotho', 'Guinea-Bissau', 'Slovenia', 'North Macedonia', 'Latvia', 'Equatorial Guinea', 'Trinidad and Tobago', 'Bahrain', 'Timor-Leste', 'Estonia', 'Mauritius', 'Cyprus', 'Eswatini', 'Djibouti', 'Réunion', 'Fiji', 'Comoros', 'Guyana', 'Bhutan', 'Solomon Islands', 'Macao', 'Luxembourg', 'Montenegro', 'Suriname', 'Cabo Verde', 'Western Sahara', 'Micronesia', 'Malta', 'Maldives', 'Brunei', 'Bahamas', 'Belize', 'Guadeloupe', 'Iceland', 'Martinique', 'Mayotte', 'Vanuatu', 'French Guiana', 'French Polynesia', 'New Caledonia', 'Barbados', 'Sao Tome & Principe', 'Samoa', 'Curaçao', 'Saint Lucia', 'Guam', 'Kiribati', 'Grenada', 'Tonga', 'Seychelles', 'Aruba', 'St. Vincent & Grenadines', 'U.S. Virgin Islands', 'Antigua and Barbuda', 'Isle of Man', 'Andorra', 'Dominica', 'Cayman Islands', 'Bermuda', 'Greenland', 'Faeroe Islands', 'Northern Mariana Islands', 'Saint Kitts & Nevis', 'Turks and Caicos', 'Sint Maarten', 'American Samoa', 'Marshall Islands', 'Liechtenstein', 'Monaco', 'San Marino', 'Gibraltar', 'Saint Martin', 'British Virgin Islands', 'Caribbean Netherlands', 'Palau', 'Cook Islands', 'Anguilla', 'Nauru', 'Wallis & Futuna', 'Tuvalu', 'Saint Barthelemy', 'Saint Pierre & Miquelon', 'Saint Helena', 'Montserrat', 'Falkland Islands', 'Niue', 'Tokelau', 'Holy See']\n"
     ]
    }
   ],
   "source": [
    "print(country_name)"
   ]
  },
  {
   "cell_type": "code",
   "execution_count": 63,
   "id": "ab8ca137",
   "metadata": {},
   "outputs": [
    {
     "data": {
      "text/plain": [
       "234"
      ]
     },
     "execution_count": 63,
     "metadata": {},
     "output_type": "execute_result"
    }
   ],
   "source": [
    "len(country_name)"
   ]
  },
  {
   "cell_type": "code",
   "execution_count": 25,
   "id": "6bf9913d",
   "metadata": {},
   "outputs": [],
   "source": [
    "population = driver.find_elements_by_xpath('//td[@style=\"font-weight: bold;\"]')"
   ]
  },
  {
   "cell_type": "code",
   "execution_count": 28,
   "id": "c27c8cca",
   "metadata": {},
   "outputs": [],
   "source": [
    "Population = []\n",
    "for i in population:\n",
    "    Population.append(i.text)\n",
    "    "
   ]
  },
  {
   "cell_type": "code",
   "execution_count": 29,
   "id": "dd3ea473",
   "metadata": {},
   "outputs": [
    {
     "name": "stdout",
     "output_type": "stream",
     "text": [
      "['1,428,627,663', '1,425,671,352', '339,996,563', '277,534,122', '240,485,658', '223,804,632', '216,422,446', '172,954,319', '144,444,359', '128,455,567', '126,527,060', '123,294,513', '117,337,368', '112,716,598', '102,262,808', '98,858,950', '89,172,767', '85,816,199', '83,294,633', '71,801,279', '67,736,802', '67,438,106', '64,756,584', '60,414,495', '58,870,762', '55,100,586', '54,577,997', '52,085,168', '51,784,059', '48,582,334', '48,109,006', '47,519,628', '45,773,884', '45,606,480', '45,504,560', '42,239,854', '41,026,067', '38,781,291', '37,840,044', '36,947,025', '36,744,634', '36,684,202', '35,163,944', '34,449,825', '34,352,719', '34,308,525', '34,121,985', '33,897,354', '30,896,590', '30,325,732', '28,873,034', '28,838,499', '28,647,293', '27,202,843', '26,439,111', '26,160,821', '23,923,276', '23,293,698', '23,251,485', '23,227,014', '21,893,579', '20,931,751', '20,569,737', '19,892,812', '19,629,590', '19,606,633', '18,278,568', '18,190,484', '18,143,378', '18,092,026', '17,763,163', '17,618,299', '16,944,826', '16,665,409', '14,190,612', '14,094,683', '13,712,828', '13,238,559', '12,458,223', '12,388,571', '11,724,763', '11,686,140', '11,337,052', '11,332,972', '11,194,449', '11,088,796', '10,612,086', '10,593,798', '10,495,295', '10,412,651', '10,341,277', '10,329,931', '10,247,605', '10,156,239', '10,143,543', '9,516,871', '9,498,238', '9,174,520', '9,053,799', '8,958,960', '8,796,669', '8,791,092', '7,633,779', '7,491,609', '7,149,077', '7,046,310', '6,888,388', '6,861,524', '6,735,347', '6,687,717', '6,516,100', '6,364,943', '6,106,869', '6,014,723', '5,910,913', '5,795,199', '5,742,315', '5,545,475', '5,474,360', '5,418,377', '5,371,230', '5,353,930', '5,228,100', '5,212,173', '5,056,935', '4,862,989', '4,644,384', '4,468,087', '4,310,108', '4,008,617', '3,748,901', '3,728,282', '3,447,157', '3,435,931', '3,423,108', '3,260,314', '3,210,847', '2,832,439', '2,825,544', '2,777,970', '2,773,168', '2,718,352', '2,716,391', '2,675,352', '2,604,172', '2,436,566', '2,330,318', '2,150,842', '2,119,675', '2,085,679', '1,830,211', '1,714,671', '1,534,937', '1,485,509', '1,360,596', '1,322,765', '1,300,557', '1,260,138', '1,210,822', '1,136,455', '981,796', '936,375', '852,075', '813,834', '787,424', '740,424', '704,149', '654,768', '626,485', '623,236', '598,682', '587,259', '544,321', '535,064', '521,021', '452,524', '412,623', '410,825', '395,839', '375,318', '366,981', '335,995', '334,506', '312,155', '308,872', '292,991', '281,995', '231,856', '225,681', '192,077', '180,251', '172,952', '133,515', '126,183', '107,773', '107,660', '106,277', '103,698', '98,750', '94,298', '84,710', '80,088', '73,040', '69,310', '64,069', '56,643', '53,270', '49,796', '47,755', '46,062', '44,222', '43,914', '41,996', '39,584', '36,297', '33,642', '32,688', '32,077', '31,538', '27,148', '18,058', '17,044', '15,899', '12,780', '11,502', '11,396', '10,994', '5,840', '5,314', '4,386', '3,791', '1,935', '1,893', '518']\n"
     ]
    }
   ],
   "source": [
    "print(Population)"
   ]
  },
  {
   "cell_type": "code",
   "execution_count": 62,
   "id": "d09175d1",
   "metadata": {},
   "outputs": [
    {
     "data": {
      "text/plain": [
       "234"
      ]
     },
     "execution_count": 62,
     "metadata": {},
     "output_type": "execute_result"
    }
   ],
   "source": [
    "len(Population)"
   ]
  },
  {
   "cell_type": "code",
   "execution_count": 67,
   "id": "d3a94ff4",
   "metadata": {},
   "outputs": [],
   "source": [
    "import pandas as pd"
   ]
  },
  {
   "cell_type": "code",
   "execution_count": 68,
   "id": "cbfc3810",
   "metadata": {},
   "outputs": [],
   "source": [
    "data = pd.DataFrame({\"Country name\":country_name,\"Population\":Population})"
   ]
  },
  {
   "cell_type": "code",
   "execution_count": 69,
   "id": "28acf45a",
   "metadata": {},
   "outputs": [
    {
     "data": {
      "text/html": [
       "<div>\n",
       "<style scoped>\n",
       "    .dataframe tbody tr th:only-of-type {\n",
       "        vertical-align: middle;\n",
       "    }\n",
       "\n",
       "    .dataframe tbody tr th {\n",
       "        vertical-align: top;\n",
       "    }\n",
       "\n",
       "    .dataframe thead th {\n",
       "        text-align: right;\n",
       "    }\n",
       "</style>\n",
       "<table border=\"1\" class=\"dataframe\">\n",
       "  <thead>\n",
       "    <tr style=\"text-align: right;\">\n",
       "      <th></th>\n",
       "      <th>Country name</th>\n",
       "      <th>Population</th>\n",
       "    </tr>\n",
       "  </thead>\n",
       "  <tbody>\n",
       "    <tr>\n",
       "      <th>0</th>\n",
       "      <td>India</td>\n",
       "      <td>1,428,627,663</td>\n",
       "    </tr>\n",
       "    <tr>\n",
       "      <th>1</th>\n",
       "      <td>China</td>\n",
       "      <td>1,425,671,352</td>\n",
       "    </tr>\n",
       "    <tr>\n",
       "      <th>2</th>\n",
       "      <td>United States</td>\n",
       "      <td>339,996,563</td>\n",
       "    </tr>\n",
       "    <tr>\n",
       "      <th>3</th>\n",
       "      <td>Indonesia</td>\n",
       "      <td>277,534,122</td>\n",
       "    </tr>\n",
       "    <tr>\n",
       "      <th>4</th>\n",
       "      <td>Pakistan</td>\n",
       "      <td>240,485,658</td>\n",
       "    </tr>\n",
       "    <tr>\n",
       "      <th>...</th>\n",
       "      <td>...</td>\n",
       "      <td>...</td>\n",
       "    </tr>\n",
       "    <tr>\n",
       "      <th>229</th>\n",
       "      <td>Montserrat</td>\n",
       "      <td>4,386</td>\n",
       "    </tr>\n",
       "    <tr>\n",
       "      <th>230</th>\n",
       "      <td>Falkland Islands</td>\n",
       "      <td>3,791</td>\n",
       "    </tr>\n",
       "    <tr>\n",
       "      <th>231</th>\n",
       "      <td>Niue</td>\n",
       "      <td>1,935</td>\n",
       "    </tr>\n",
       "    <tr>\n",
       "      <th>232</th>\n",
       "      <td>Tokelau</td>\n",
       "      <td>1,893</td>\n",
       "    </tr>\n",
       "    <tr>\n",
       "      <th>233</th>\n",
       "      <td>Holy See</td>\n",
       "      <td>518</td>\n",
       "    </tr>\n",
       "  </tbody>\n",
       "</table>\n",
       "<p>234 rows × 2 columns</p>\n",
       "</div>"
      ],
      "text/plain": [
       "         Country name     Population\n",
       "0               India  1,428,627,663\n",
       "1               China  1,425,671,352\n",
       "2       United States    339,996,563\n",
       "3           Indonesia    277,534,122\n",
       "4            Pakistan    240,485,658\n",
       "..                ...            ...\n",
       "229        Montserrat          4,386\n",
       "230  Falkland Islands          3,791\n",
       "231              Niue          1,935\n",
       "232           Tokelau          1,893\n",
       "233          Holy See            518\n",
       "\n",
       "[234 rows x 2 columns]"
      ]
     },
     "execution_count": 69,
     "metadata": {},
     "output_type": "execute_result"
    }
   ],
   "source": [
    "data"
   ]
  },
  {
   "cell_type": "code",
   "execution_count": 71,
   "id": "4a92f5a3",
   "metadata": {},
   "outputs": [],
   "source": [
    "data.to_csv(\"Population_by_country.csv\")"
   ]
  },
  {
   "cell_type": "code",
   "execution_count": null,
   "id": "f8e64325",
   "metadata": {},
   "outputs": [],
   "source": []
  }
 ],
 "metadata": {
  "kernelspec": {
   "display_name": "Python 3 (ipykernel)",
   "language": "python",
   "name": "python3"
  },
  "language_info": {
   "codemirror_mode": {
    "name": "ipython",
    "version": 3
   },
   "file_extension": ".py",
   "mimetype": "text/x-python",
   "name": "python",
   "nbconvert_exporter": "python",
   "pygments_lexer": "ipython3",
   "version": "3.11.7"
  }
 },
 "nbformat": 4,
 "nbformat_minor": 5
}
